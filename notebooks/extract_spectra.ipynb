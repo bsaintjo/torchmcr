{
 "cells": [
  {
   "cell_type": "code",
   "execution_count": 1,
   "metadata": {},
   "outputs": [],
   "source": [
    "import torch\n",
    "import numpy as np\n",
    "import matplotlib.pyplot as plt\n",
    "from torchmcr.synthetic.randomgaussians import generate_spectra\n",
    "from torchmcr.basemodel import MCR\n",
    "from torchmcr.simplemcr import NormalizedSpectraMCRModel, SimpleMCRModel\n",
    "from torchmcr.train import train_mcr_model\n",
    "from torchmcr.loss_models.smooth_loss import create_smooth_loss\n",
    "from torchmcr.loss_models.loss_registry import MCRLossRegistry\n",
    "from torchmcr.spectrainit import simplisma\n",
    "from torchmcr.utils.domain_constraints import inverse_normalized_softmax, normalized_softmax, inverse_softplus\n",
    "\n",
    "\n",
    "import torch\n",
    "import torch.optim as optim\n",
    "import torch.nn.functional as F\n",
    "from torch import nn"
   ]
  },
  {
   "cell_type": "code",
   "execution_count": null,
   "metadata": {},
   "outputs": [],
   "source": []
  },
  {
   "cell_type": "code",
   "execution_count": 2,
   "metadata": {},
   "outputs": [
    {
     "name": "stdout",
     "output_type": "stream",
     "text": [
      "(3, 1000)\n",
      "(3, 1000)\n"
     ]
    }
   ],
   "source": [
    "# Generate true spectra\n",
    "waves, true_spectra = generate_spectra(3, 10, amplitude_limits=[1,2], variance_limits=[20,40])\n",
    "print(true_spectra.shape)\n",
    "norma = np.sum(true_spectra, axis=-1)\n",
    "true_spectra = 1000*true_spectra/norma[:,None]\n",
    "print(true_spectra.shape)\n",
    "\n",
    "# Create concentration profiles\n",
    "times = np.linspace(0, 1, 1000)\n",
    "true_concentrations = np.vstack([\n",
    "    np.exp(-(times-0.1)**2/(2.0*0.05**2)),\n",
    "    np.exp(-(times-0.5)**2/(2.0*0.07**2)),\n",
    "    np.exp(-(times-0.85)**2/(2.0*0.05**2)),\n",
    "]).T\n",
    "\n",
    "# Add noise to concentrations to create \"measured\" concentrations\n",
    "noise_level = 0.05  # 5% noise\n",
    "measured_concentrations = true_concentrations * (1 + noise_level * np.random.randn(*true_concentrations.shape))\n",
    "measured_concentrations = np.clip(measured_concentrations, 0, None)  # Ensure non-negative"
   ]
  },
  {
   "cell_type": "code",
   "execution_count": null,
   "metadata": {},
   "outputs": [],
   "source": []
  }
 ],
 "metadata": {
  "kernelspec": {
   "display_name": "dlsia-new",
   "language": "python",
   "name": "dlsia-new"
  },
  "language_info": {
   "codemirror_mode": {
    "name": "ipython",
    "version": 3
   },
   "file_extension": ".py",
   "mimetype": "text/x-python",
   "name": "python",
   "nbconvert_exporter": "python",
   "pygments_lexer": "ipython3",
   "version": "3.11.10"
  }
 },
 "nbformat": 4,
 "nbformat_minor": 2
}
